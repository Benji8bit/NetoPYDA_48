{
  "nbformat": 4,
  "nbformat_minor": 0,
  "metadata": {
    "colab": {
      "provenance": [],
      "authorship_tag": "ABX9TyPbI2IGhWxF15Qhts++NIxD",
      "include_colab_link": true
    },
    "kernelspec": {
      "name": "python3",
      "display_name": "Python 3"
    },
    "language_info": {
      "name": "python"
    }
  },
  "cells": [
    {
      "cell_type": "markdown",
      "metadata": {
        "id": "view-in-github",
        "colab_type": "text"
      },
      "source": [
        "<a href=\"https://colab.research.google.com/github/Benji8bit/NetoPYDA_48/blob/master/pyda_48_hw1.ipynb\" target=\"_parent\"><img src=\"https://colab.research.google.com/assets/colab-badge.svg\" alt=\"Open In Colab\"/></a>"
      ]
    },
    {
      "cell_type": "markdown",
      "source": [
        "**Homework 1**"
      ],
      "metadata": {
        "id": "F9G56mesyY3Y"
      }
    },
    {
      "cell_type": "code",
      "execution_count": 33,
      "metadata": {
        "id": "ybXEFQXsP73v",
        "colab": {
          "base_uri": "https://localhost:8080/"
        },
        "outputId": "25c4918c-1ff2-4e37-e141-38ce4d82b223"
      },
      "outputs": [
        {
          "output_type": "stream",
          "name": "stdout",
          "text": [
            "Фраза 1 длиннее фразы 2\n"
          ]
        }
      ],
      "source": [
        "# Task 1\n",
        "\n",
        "phrase_1 = 'Насколько проще было бы писать программы, если бы не заказчики'\n",
        "phrase_2 = '640Кб должно хватить для любых задач. Билл Гейтс (по легенде)'\n",
        "\n",
        "if (len(phrase_1) > len(phrase_2)):\n",
        "    print('Фраза 1 длиннее фразы 2')\n",
        "elif (len(phrase_2) > len(phrase_1)):\n",
        "    print('Фраза 2 длиннее фразы 1')\n",
        "else:\n",
        "    print('Фразы равной длины')"
      ]
    },
    {
      "cell_type": "code",
      "source": [
        "# Task 2\n",
        "\n",
        "year = 2100\n",
        "\n",
        "if year % 4 == 0:\n",
        "    if ((year % 100) == 0) and ((year % 400) == 0):\n",
        "        print(\"Високосный год\")\n",
        "    elif year % 100 == 0:\n",
        "        print(\"Обычный год\")\n",
        "    else:\n",
        "        print(\"Високосный год\")\n",
        "else:\n",
        "    print(\"Обычный год\")"
      ],
      "metadata": {
        "colab": {
          "base_uri": "https://localhost:8080/"
        },
        "id": "seaWdMgwuTrU",
        "outputId": "2656239c-39f7-4d9f-f1c7-b20e4dd6ff29"
      },
      "execution_count": 34,
      "outputs": [
        {
          "output_type": "stream",
          "name": "stdout",
          "text": [
            "Обычный год\n"
          ]
        }
      ]
    },
    {
      "cell_type": "code",
      "source": [
        "# Task 3\n",
        "\n",
        "import sys\n",
        "\n",
        "print(\"Введите день и месяц своего рождения.\")\n",
        "\n",
        "try:\n",
        "    day_of_birth = int(input(\"Введите день: \"))\n",
        "except ValueError:\n",
        "    print(\"Эх, нужно было вводить число...\")\n",
        "month_of_birth = input(\"Введите месяц: \")\n",
        "\n",
        "if month_of_birth.capitalize() == \"Январь\":\n",
        "    if 0 < day_of_birth < 20:\n",
        "        print(\"Ваш знак зодиака: Козерог\")\n",
        "    elif 19 < day_of_birth < 32:\n",
        "        print(\"Ваш знак зодиака: Водолей\")\n",
        "    else:\n",
        "        print(\"Уточните ввод дня.\")\n",
        "elif month_of_birth.capitalize() == \"Февраль\":\n",
        "    if 0 < day_of_birth < 19:\n",
        "        print(\"Ваш знак зодиака: Водолей\")\n",
        "    elif 18 < day_of_birth < 30:\n",
        "        print(\"Ваш знак зодиака: Рыбы\")\n",
        "    else:\n",
        "        print(\"Уточните ввод дня.\")\n",
        "elif month_of_birth.capitalize() == \"Март\":\n",
        "    if 0 < day_of_birth < 21:\n",
        "        print(\"Ваш знак зодиака: Рыбы\")\n",
        "    elif 20 < day_of_birth < 32:\n",
        "        print(\"Ваш знак зодиака: Овен\")\n",
        "    else:\n",
        "        print(\"Уточните ввод дня.\")\n",
        "elif month_of_birth.capitalize() == \"Апрель\":\n",
        "    if 0 < day_of_birth < 20:\n",
        "        print(\"Ваш знак зодиака: Овен\")\n",
        "    elif 19 < day_of_birth < 31:\n",
        "        print(\"Ваш знак зодиака: Телец\")\n",
        "    else:\n",
        "        print(\"Уточните ввод дня.\")\n",
        "elif month_of_birth.capitalize() == \"Май\":\n",
        "    if 0 < day_of_birth < 21:\n",
        "        print(\"Ваш знак зодиака: Телец\")\n",
        "    elif 20 < day_of_birth < 32:\n",
        "        print(\"Ваш знак зодиака: Близнецы\")\n",
        "    else:\n",
        "        print(\"Уточните ввод дня.\")\n",
        "elif month_of_birth.capitalize() == \"Июнь\":\n",
        "    if 0 < day_of_birth < 21:\n",
        "        print(\"Ваш знак зодиака: Близнецы\")\n",
        "    elif 20 < day_of_birth < 31:\n",
        "        print(\"Ваш знак зодиака: Рак\")\n",
        "    else:\n",
        "        print(\"Уточните ввод дня.\")\n",
        "elif month_of_birth.capitalize() == \"Июль\":\n",
        "    if 0 < day_of_birth < 23:\n",
        "        print(\"Ваш знак зодиака: Рак\")\n",
        "    elif 22 < day_of_birth < 32:\n",
        "        print(\"Ваш знак зодиака: Лев\")\n",
        "    else:\n",
        "        print(\"Уточните ввод дня.\")\n",
        "elif month_of_birth.capitalize() == \"Август\":\n",
        "    if 0 < day_of_birth < 23:\n",
        "        print(\"Ваш знак зодиака: Лев\")\n",
        "    elif 22 < day_of_birth < 32:\n",
        "        print(\"Ваш знак зодиака: Дева\")\n",
        "    else:\n",
        "        print(\"Уточните ввод дня.\")\n",
        "elif month_of_birth.capitalize() == \"Сентябрь\":\n",
        "    if 0 < day_of_birth < 23:\n",
        "        print(\"Ваш знак зодиака: Дева\")\n",
        "    elif 22 < day_of_birth < 31:\n",
        "        print(\"Ваш знак зодиака: Весы\")\n",
        "    else:\n",
        "        print(\"Уточните ввод дня.\")\n",
        "elif month_of_birth.capitalize() == \"Октябрь\":\n",
        "    if 0 < day_of_birth < 23:\n",
        "        print(\"Ваш знак зодиака: Весы\")\n",
        "    elif 22 < day_of_birth < 32:\n",
        "        print(\"Ваш знак зодиака: Скорпион\")\n",
        "    else:\n",
        "        print(\"Уточните ввод дня.\")\n",
        "elif month_of_birth.capitalize() == \"Ноябрь\":\n",
        "    if 0 < day_of_birth < 22:\n",
        "        print(\"Ваш знак зодиака: Скорпион\")\n",
        "    elif 21 < day_of_birth < 31:\n",
        "        print(\"Ваш знак зодиака: Стрелец\")\n",
        "    else:\n",
        "        print(\"Уточните ввод дня.\")\n",
        "elif month_of_birth.capitalize() == \"Декабрь\":\n",
        "    if 0 < day_of_birth < 22:\n",
        "        print(\"Ваш знак зодиака: Стрелец\")\n",
        "    elif 21 < day_of_birth < 32:\n",
        "        print(\"Ваш знак зодиака: Козерог\")\n",
        "    else:\n",
        "        print(\"Уточните ввод дня.\")\n",
        "else:\n",
        "    print(\"Уточните ввод месяца.\")"
      ],
      "metadata": {
        "colab": {
          "base_uri": "https://localhost:8080/"
        },
        "id": "4dJnUDA56DTh",
        "outputId": "76740389-882e-4f47-a8f5-476dc1cf22dc"
      },
      "execution_count": 41,
      "outputs": [
        {
          "output_type": "stream",
          "name": "stdout",
          "text": [
            "Введите день и месяц своего рождения.\n",
            "Введите день: q\n",
            "Эх, нужно было вводить число...\n",
            "Введите месяц: q\n",
            "Уточните ввод месяца.\n"
          ]
        }
      ]
    },
    {
      "cell_type": "code",
      "source": [
        "# Task 4\n",
        "\n",
        "width = 45\n",
        "length = 205\n",
        "height = 45\n",
        "\n",
        "if width <= 15 and length <= 15 and height <= 15:\n",
        "    print(\"Коробка №1\")\n",
        "elif width > 200 or length > 200 or height > 200:\n",
        "    print(\"Упаковка для лыж\")\n",
        "elif (15 < width < 50) or (15 < length < 50) or (15 < height < 50):\n",
        "    print(\"Коробка №2\")\n",
        "else:\n",
        "    print(\"Коробка №3\")"
      ],
      "metadata": {
        "colab": {
          "base_uri": "https://localhost:8080/"
        },
        "id": "W0A3eLOGz9LU",
        "outputId": "e45414fb-db30-43b4-a47f-f7de04dd4acc"
      },
      "execution_count": 36,
      "outputs": [
        {
          "output_type": "stream",
          "name": "stdout",
          "text": [
            "Упаковка для лыж\n"
          ]
        }
      ]
    },
    {
      "cell_type": "code",
      "source": [
        "# Task 5\n",
        "\n",
        "number = 123456\n",
        "\n",
        "if (number//100000 + number%100000//10000 + number%10000//1000) == (number%1000//100 + number%100//10 + number%10):\n",
        "    print(\"Счастливый билет\")\n",
        "else:\n",
        "    print(\"Несчастливый билет\")\n"
      ],
      "metadata": {
        "colab": {
          "base_uri": "https://localhost:8080/"
        },
        "id": "cNBXwL4L0F90",
        "outputId": "ad23f249-a37e-4a02-ca67-d13404083acb"
      },
      "execution_count": 37,
      "outputs": [
        {
          "output_type": "stream",
          "name": "stdout",
          "text": [
            "Несчастливый билет\n"
          ]
        }
      ]
    },
    {
      "cell_type": "code",
      "source": [
        "# Task 6\n",
        "\n",
        "import math\n",
        "\n",
        "figure_type = input(\"Введите тип геометрической фигуры: \")\n",
        "\n",
        "if figure_type.capitalize() == \"Круг\":\n",
        "    circle_radius = int(input(\"Введите длину радиуса круга: \"))\n",
        "    circle_square = math.pi*circle_radius**2\n",
        "    print(\"Площадь круга: \" + str(circle_square))\n",
        "\n",
        "elif figure_type.capitalize() == \"Треугольник\":\n",
        "    triangle_side_A = int(input(\"Введите длину стороны А: \"))\n",
        "    triangle_side_B = int(input(\"Введите длину стороны B: \"))\n",
        "    triangle_side_C = int(input(\"Введите длину стороны C: \"))\n",
        "    half_perimeter = (triangle_side_A + triangle_side_B + triangle_side_C) / 2\n",
        "    triangle_square = math.sqrt(half_perimeter*(half_perimeter - triangle_side_A)*(half_perimeter - triangle_side_B)*(half_perimeter - triangle_side_C))\n",
        "    print(\"Площадь треугольника: \" + str(triangle_square))\n",
        "\n",
        "elif figure_type.capitalize() == \"Прямоугольник\":\n",
        "    rectangle_side_A = int(input(\"Введите длину стороны А: \"))\n",
        "    rectangle_side_B = int(input(\"Введите длину стороны B: \"))\n",
        "    rectangle_square = rectangle_side_A * rectangle_side_B\n",
        "    print(\"Площадь прямоугольника: \" + str(rectangle_square))\n",
        "\n",
        "else:\n",
        "    print(\"Какой блин гексаоктаэдр? Введите круг, треугольник или прямоугольник.\")"
      ],
      "metadata": {
        "colab": {
          "base_uri": "https://localhost:8080/"
        },
        "id": "zNWfM_RD5Phh",
        "outputId": "6c58ac28-b97f-4453-d468-af4b610c04e0"
      },
      "execution_count": 38,
      "outputs": [
        {
          "output_type": "stream",
          "name": "stdout",
          "text": [
            "Введите тип геометрической фигуры: крУГ\n",
            "Введите длину радиуса круга: 77\n",
            "Площадь круга: 18626.502843133883\n"
          ]
        }
      ]
    }
  ]
}