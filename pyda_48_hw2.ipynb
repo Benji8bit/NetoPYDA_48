{
  "cells": [
    {
      "cell_type": "markdown",
      "metadata": {
        "id": "view-in-github",
        "colab_type": "text"
      },
      "source": [
        "<a href=\"https://colab.research.google.com/github/Benji8bit/NetoPYDA_48/blob/master/pyda_48_hw2.ipynb\" target=\"_parent\"><img src=\"https://colab.research.google.com/assets/colab-badge.svg\" alt=\"Open In Colab\"/></a>"
      ]
    },
    {
      "cell_type": "markdown",
      "metadata": {
        "id": "4ZH31Q-7Ewxd"
      },
      "source": [
        "# Домашнее задание к лекции \"Введение в типы данных и циклы. Часть 1\""
      ]
    },
    {
      "cell_type": "markdown",
      "metadata": {
        "id": "-UD00VsREwxf"
      },
      "source": [
        "## Задание 1\n",
        "Дана переменная, в которой хранится слово из латинских букв. Напишите код, который выводит на экран:\n",
        "- среднюю букву, если число букв в слове нечетное;\n",
        "- две средних буквы, если число букв четное.\n",
        "\n",
        "Примеры работы программы:  \n",
        "1. `word = 'test'`\n",
        "\n",
        "Результат:  \n",
        "`es`  \n",
        "  \n",
        "2.     \n",
        "`word = 'testing'`\n",
        "\n",
        "Результат:  \n",
        "`t`"
      ]
    },
    {
      "cell_type": "code",
      "source": [
        "word = input('Input your word: ')\n",
        "if (len(word)%2 == 0):\n",
        "  print(word[len(word)//2 - 1] + word[len(word)//2])\n",
        "else:\n",
        "  print(word[len(word)//2])"
      ],
      "metadata": {
        "colab": {
          "base_uri": "https://localhost:8080/"
        },
        "id": "Ts_9z2cUFNgL",
        "outputId": "3e1a0ddf-4161-47ec-aa0b-967dabbf4c66"
      },
      "execution_count": 2,
      "outputs": [
        {
          "output_type": "stream",
          "name": "stdout",
          "text": [
            "Input your word: qwer\n",
            "we\n"
          ]
        }
      ]
    },
    {
      "cell_type": "code",
      "source": [
        "word = input('Input your word: ')\n",
        "print(word[(len(word)-1)//2:(len(word)+2)//2])"
      ],
      "metadata": {
        "colab": {
          "base_uri": "https://localhost:8080/"
        },
        "id": "wF_bjF73aLL_",
        "outputId": "bcef64b2-888d-4202-c1fd-7688b6340860"
      },
      "execution_count": 4,
      "outputs": [
        {
          "output_type": "stream",
          "name": "stdout",
          "text": [
            "Input your word: qwerty\n",
            "er\n"
          ]
        }
      ]
    },
    {
      "cell_type": "markdown",
      "metadata": {
        "id": "BogYDYI1Ewxf"
      },
      "source": [
        "## Задание 2\n",
        "Напишите программу, которая последовательно запрашивает у пользователя числа (по одному за раз) и после первого нуля выводит сумму всех ранее введенных чисел.\n",
        "\n",
        "Примеры работы программы:  \n",
        "1.   \n",
        "\n",
        "```\n",
        "Введите число:  \n",
        "1\n",
        "\n",
        "Введите число:  \n",
        "4\n",
        "\n",
        "Введите число:  \n",
        "6\n",
        "\n",
        "Введите число:  \n",
        "0\n",
        "```\n",
        "\n",
        "Результат:  \n",
        "`11`\n",
        "\n",
        "2.      \n",
        "\n",
        "```\n",
        "Введите число:  \n",
        "0\n",
        "```  \n",
        "\n",
        "Результат:  \n",
        "`0`"
      ]
    },
    {
      "cell_type": "code",
      "source": [
        "sum = 0\n",
        "add = None\n",
        "while (add != 0):\n",
        "  add = int(input('Enter a number: '))\n",
        "  sum += int(add)\n",
        "print(sum)\n"
      ],
      "metadata": {
        "colab": {
          "base_uri": "https://localhost:8080/"
        },
        "id": "W_pMB94rHkrB",
        "outputId": "ed3953f2-1bed-4e68-b37c-0e680ad2cdf4"
      },
      "execution_count": 6,
      "outputs": [
        {
          "output_type": "stream",
          "name": "stdout",
          "text": [
            "Enter a number: 0\n",
            "0\n"
          ]
        }
      ]
    },
    {
      "cell_type": "code",
      "source": [
        "print(sum([int(x) for x in iter(input, '0')]))"
      ],
      "metadata": {
        "colab": {
          "base_uri": "https://localhost:8080/"
        },
        "id": "qFlcwyHpaiJ_",
        "outputId": "4e0c8686-bba4-4753-a8bd-1f5ee4552ea5"
      },
      "execution_count": 5,
      "outputs": [
        {
          "output_type": "stream",
          "name": "stdout",
          "text": [
            "1\n",
            "3\n",
            "5\n",
            "0\n",
            "9\n"
          ]
        }
      ]
    },
    {
      "cell_type": "markdown",
      "metadata": {
        "id": "ENwAjkGeEwxf"
      },
      "source": [
        "## Задание 3\n",
        "\n",
        "Мы делаем [MVP](https://ru.wikipedia.org/wiki/%D0%9C%D0%B8%D0%BD%D0%B8%D0%BC%D0%B0%D0%BB%D1%8C%D0%BD%D0%BE_%D0%B6%D0%B8%D0%B7%D0%BD%D0%B5%D1%81%D0%BF%D0%BE%D1%81%D0%BE%D0%B1%D0%BD%D1%8B%D0%B9_%D0%BF%D1%80%D0%BE%D0%B4%D1%83%D0%BA%D1%82) dating-сервиса, и у нас есть список парней и девушек.  \n",
        "Выдвигаем гипотезу: лучшие рекомендации мы получим, если просто отсортируем имена по алфавиту и познакомим людей с одинаковыми индексами после сортировки!\n",
        "Но мы не будем никого знакомить, если кто-то может остаться без пары:\n",
        "\n",
        "Примеры работы программы:  \n",
        "1.  \n",
        "\n",
        "```\n",
        "boys = ['Peter', 'Alex', 'John', 'Arthur', 'Richard']\n",
        "girls = ['Kate', 'Liza', 'Kira', 'Emma', 'Trisha']\n",
        "```\n",
        "\n",
        "Результат:  \n",
        "```\n",
        "Идеальные пары:  \n",
        "Alex и Emma  \n",
        "Arthur и Kate  \n",
        "John и Kira  \n",
        "Peter и Liza  \n",
        "Richard и Trisha\n",
        "```\n",
        "2.     \n",
        "\n",
        "```\n",
        "boys = ['Peter', 'Alex', 'John', 'Arthur', 'Richard', 'Michael']\n",
        "girls = ['Kate', 'Liza', 'Kira', 'Emma', 'Trisha']\n",
        "```\n",
        "\n",
        "Результат:  \n",
        "`Внимание, кто-то может остаться без пары!`"
      ]
    },
    {
      "cell_type": "code",
      "source": [
        "boys = ['Peter', 'Alex', 'John', 'Arthur', 'Richard']\n",
        "girls = ['Kate', 'Liza', 'Kira', 'Emma', 'Trisha']\n",
        "if (len(boys) == len(girls)):\n",
        "  print('Идеальные пары: ')\n",
        "  i = 0\n",
        "  while (i < len(boys)):\n",
        "    print(boys[i] + ' и ' + girls[i])\n",
        "    i+=1\n",
        "else:\n",
        "  print('Внимание, кто-то может остаться без пары!')"
      ],
      "metadata": {
        "colab": {
          "base_uri": "https://localhost:8080/"
        },
        "id": "tKMntSdrnIle",
        "outputId": "cbc43a5a-0371-4173-dd1b-a78421e01771"
      },
      "execution_count": 7,
      "outputs": [
        {
          "output_type": "stream",
          "name": "stdout",
          "text": [
            "Идеальные пары: \n",
            "Peter и Kate\n",
            "Alex и Liza\n",
            "John и Kira\n",
            "Arthur и Emma\n",
            "Richard и Trisha\n"
          ]
        }
      ]
    },
    {
      "cell_type": "code",
      "source": [
        "boys = ['Peter', 'Alex', 'John', 'Arthur', 'Richard']\n",
        "girls = ['Kate', 'Liza', 'Kira', 'Emma', 'Trisha']\n",
        "if len(boys) != len(girls):\n",
        "\tprint('Внимание, кто-то может остаться без пары!')\n",
        "else:\n",
        "\tprint('Идеальные пары:')\n",
        "\tfor boy, girl in zip(sorted(boys), sorted(girls)):\n",
        "\t\tprint(f'{boy} и {girl}')"
      ],
      "metadata": {
        "colab": {
          "base_uri": "https://localhost:8080/"
        },
        "id": "LDJhcejva91f",
        "outputId": "e3c34bb3-5201-4d49-9f4e-b48642deb16c"
      },
      "execution_count": 8,
      "outputs": [
        {
          "output_type": "stream",
          "name": "stdout",
          "text": [
            "Идеальные пары:\n",
            "Alex и Emma\n",
            "Arthur и Kate\n",
            "John и Kira\n",
            "Peter и Liza\n",
            "Richard и Trisha\n"
          ]
        }
      ]
    },
    {
      "cell_type": "markdown",
      "metadata": {
        "id": "LYTG33cGEwxg"
      },
      "source": [
        "## Задание 4\n",
        "\n",
        "У нас есть список, содержащий информацию о среднедневной температуре в Фаренгейтах за произвольный период по странам (структура данных в примере).\n",
        "Необходимо написать код, который рассчитает среднюю температуру за период в Цельсиях(!) для каждой страны.\n",
        "\n",
        "Пример работы программы:  \n",
        "```\n",
        "countries_temperature = [\n",
        "    ['Таиланд', [75.2, 77, 78.8, 73.4, 68, 75.2, 77]],\n",
        "    ['Германия', [57.2, 55.4, 59, 59, 53.6]],\n",
        "    ['Россия', [35.6, 37.4, 39.2, 41, 42.8, 39.2, 35.6]],\n",
        "    ['Польша', [50, 50, 53.6, 57.2, 55.4, 55.4]]\n",
        "]\n",
        "```\n",
        "\n",
        "Результат:  \n",
        "```\n",
        "Средняя температура в странах:\n",
        "Таиланд  -  23.9 С\n",
        "Германия  -  13.8 С\n",
        "Россия  -  3.7 С\n",
        "Польша  -  12.0 С\n",
        "```"
      ]
    },
    {
      "cell_type": "code",
      "source": [
        "import math\n",
        "\n",
        "countries_temperature = [\n",
        "    ['Таиланд', [75.2, 77, 78.8, 73.4, 68, 75.2, 77]],\n",
        "    ['Германия', [57.2, 55.4, 59, 59, 53.6]],\n",
        "    ['Россия', [35.6, 37.4, 39.2, 41, 42.8, 39.2, 35.6]],\n",
        "    ['Польша', [50, 50, 53.6, 57.2, 55.4, 55.4]]\n",
        "]\n",
        "print('Средняя температура в странах:')\n",
        "\n",
        "for country in countries_temperature:\n",
        "  sum_fahrenheit = math.fsum(country[1])\n",
        "  avg_fahrenheit = sum_fahrenheit / len(country[1])\n",
        "  avg_celsium = (5 / 9) * (avg_fahrenheit - 32)\n",
        "  print(country[0] + ' - ' + str(round(avg_celsium, 1)) + ' C')"
      ],
      "metadata": {
        "colab": {
          "base_uri": "https://localhost:8080/"
        },
        "id": "ID2-r9UTqawT",
        "outputId": "6a44c17d-42ee-4d4a-e8c9-f67a8a8e7c39"
      },
      "execution_count": null,
      "outputs": [
        {
          "output_type": "stream",
          "name": "stdout",
          "text": [
            "Средняя температура в странах:\n",
            "Таиланд - 23.9 C\n",
            "Германия - 13.8 C\n",
            "Россия - 3.7 C\n",
            "Польша - 12.0 C\n"
          ]
        }
      ]
    },
    {
      "cell_type": "markdown",
      "metadata": {
        "id": "ll9l6aV5Ewxg"
      },
      "source": [
        "## Задание 5 (необязательное)\n",
        "\n",
        "Имеется список с транспортными номерами. Необходимо написать код, который проверит каждый номер на валидность (1 буква, 3 цифры, 2 буквы, 2-3 цифры). Обратите внимание, что не все буквы кириллического алфавита используются в транспортных номерах.\n",
        "\n",
        "Если номер валиден, то вывести его в нужном формавте (пример ниже), а если не валиден — вывести текст. При решении помогут регулярные выражения, с которыми будет знакомство на практике.\n",
        "\n",
        "Примеры работы программы:  \n",
        "\n",
        "`car_ids = ['А222ВС96', 'АБ22ВВ193']`\n",
        "\n",
        "Результат:\n",
        "```\n",
        "Номер А222ВС валиден. Регион: 96\n",
        "Номер АБ22ВВ193 не валиден\n",
        "```"
      ]
    },
    {
      "cell_type": "code",
      "source": [
        "import re\n",
        "\n",
        "car_ids = ['А222ВС96', 'АБ22ВВ193']\n",
        "for car_id in car_ids:\n",
        "  car_id_regex = r'^[A-Я]{1}[0-9]{3}[A-Я]{2}[0-9]{2}$'\n",
        "  car_id_checking = re.findall(car_id_regex, car_id)\n",
        "  if car_id_checking != []:\n",
        "    print('Номер ' + car_id + ' валиден. ' + 'Регион: ' + car_id[-2:])\n",
        "  else:\n",
        "    print('Номер ' + car_id + ' не валиден')"
      ],
      "metadata": {
        "colab": {
          "base_uri": "https://localhost:8080/"
        },
        "id": "ZWBqwWxcDPXg",
        "outputId": "fd40505e-f342-4f4a-9e85-050d6e64edbb"
      },
      "execution_count": null,
      "outputs": [
        {
          "output_type": "stream",
          "name": "stdout",
          "text": [
            "Номер А222ВС96 валиден. Регион: 96\n",
            "Номер АБ22ВВ193 не валиден\n"
          ]
        }
      ]
    },
    {
      "cell_type": "markdown",
      "metadata": {
        "id": "y5RFYyqLEwxg"
      },
      "source": [
        "## Задание 6 (необязательное)\n",
        "\n",
        "Дан поток логов по количеству просмотренных страниц для каждого пользователя (`пользователь,дата;просмотры`). Вам необходимо написать алгоритм, который считает среднее значение просмотров на пользователя.\n",
        "Т. е. надо посчитать отношение суммы всех просмотров к количеству уникальных пользователей. И тут регулярные выражения облегчат немного реализацию.\n",
        "\n",
        "Примеры работы программы:  \n",
        "1.  \n",
        "\n",
        "```\n",
        "stream = [\n",
        "    'user4,2021-01-01;3',\n",
        "    'user3,2022-01-07;4',\n",
        "    'user2,2022-03-29;1',\n",
        "    'user1,2020-04-04;13',\n",
        "    'user2,2022-01-05;7',\n",
        "    'user1,2021-06-14;4',\n",
        "    'user3,2022-07-02;10',\n",
        "    'user4,2021-03-21;19',\n",
        "    'user4,2022-03-22;4',\n",
        "    'user4,2022-04-22;8',\n",
        "    'user4,2021-05-03;9',\n",
        "    'user4,2022-05-11;11'\n",
        "]\n",
        "```\n",
        "\n",
        "Результат:  \n",
        "`Среднее количество просмотров на уникального пользователя: 23.25`  \n",
        "\n",
        "2.     \n",
        "\n",
        "```\n",
        "stream = [\n",
        "    'user100,2022-01-01;150',\n",
        "    'user99,2022-01-07;205',\n",
        "    'user1001,2022-03-29;81'\n",
        "]\n",
        "```\n",
        "\n",
        "Результат:  \n",
        "`Среднее количество просмотров на уникального пользователя: 145.33`"
      ]
    },
    {
      "cell_type": "code",
      "source": [
        "import re\n",
        "\n",
        "stream = [\n",
        "    'user4,2021-01-01;3',\n",
        "    'user3,2022-01-07;4',\n",
        "    'user2,2022-03-29;1',\n",
        "    'user1,2020-04-04;13',\n",
        "    'user2,2022-01-05;7',\n",
        "    'user1,2021-06-14;4',\n",
        "    'user3,2022-07-02;10',\n",
        "    'user4,2021-03-21;19',\n",
        "    'user4,2022-03-22;4',\n",
        "    'user4,2022-04-22;8',\n",
        "    'user4,2021-05-03;9',\n",
        "    'user4,2022-05-11;11'\n",
        "]\n",
        "\n",
        "stream_regex_login = r'^[a-z]{4}\\d'\n",
        "stream_regex_views = r'\\d+$'\n",
        "\n",
        "\n",
        "counter_login = 0\n",
        "sum_unique_login_views = 0\n",
        "sum_views = 0\n",
        "\n",
        "for element in stream:\n",
        "  counter_entries = 0\n",
        "  print(element)\n",
        "  stream_checking_login = re.findall(stream_regex_login, element)\n",
        "  stream_checking_views = re.findall(stream_regex_views, element)\n",
        "  print(stream_checking_login)\n",
        "  print(stream_checking_views)\n",
        "  login = stream_checking_login[0]\n",
        "\n",
        "  views = 0\n",
        "\n",
        "  print(login)\n",
        "  print(views)\n",
        "  for other_element in stream:\n",
        "    print (other_element)\n",
        "    stream_checking_login2 = re.findall(stream_regex_login, other_element)\n",
        "    stream_checking_views2 = re.findall(stream_regex_views, other_element)\n",
        "    views2 = int(stream_checking_views2[0])\n",
        "    if (stream_checking_login2[0] == login):\n",
        "      views += views2\n",
        "      counter_entries += 1\n",
        "      print(views)\n",
        "\n",
        "  counter_login += 1\n",
        "  sum_views += views\n",
        "  avg_for_login = views / counter_entries\n",
        "  sum_unique_login_views += avg_for_login\n",
        "  print (avg_for_login)\n",
        "\n",
        "print (sum_views)\n",
        "print (counter_login)\n",
        "print ('Среднее количество просмотров на уникального пользователя: ' + str(sum_views / counter_login))\n",
        "print ('Среднее количество просмотров на уникального пользователя за один раз: ' + str(sum_unique_login_views / counter_login))\n",
        "\n"
      ],
      "metadata": {
        "colab": {
          "base_uri": "https://localhost:8080/"
        },
        "id": "6nuWvfW6qe9c",
        "outputId": "a23b4ad7-12ac-42fd-d43e-fdcf195f19d8"
      },
      "execution_count": null,
      "outputs": [
        {
          "output_type": "stream",
          "name": "stdout",
          "text": [
            "user4,2021-01-01;3\n",
            "['user4']\n",
            "['3']\n",
            "user4\n",
            "0\n",
            "user4,2021-01-01;3\n",
            "3\n",
            "user3,2022-01-07;4\n",
            "user2,2022-03-29;1\n",
            "user1,2020-04-04;13\n",
            "user2,2022-01-05;7\n",
            "user1,2021-06-14;4\n",
            "user3,2022-07-02;10\n",
            "user4,2021-03-21;19\n",
            "22\n",
            "user4,2022-03-22;4\n",
            "26\n",
            "user4,2022-04-22;8\n",
            "34\n",
            "user4,2021-05-03;9\n",
            "43\n",
            "user4,2022-05-11;11\n",
            "54\n",
            "9.0\n",
            "user3,2022-01-07;4\n",
            "['user3']\n",
            "['4']\n",
            "user3\n",
            "0\n",
            "user4,2021-01-01;3\n",
            "user3,2022-01-07;4\n",
            "4\n",
            "user2,2022-03-29;1\n",
            "user1,2020-04-04;13\n",
            "user2,2022-01-05;7\n",
            "user1,2021-06-14;4\n",
            "user3,2022-07-02;10\n",
            "14\n",
            "user4,2021-03-21;19\n",
            "user4,2022-03-22;4\n",
            "user4,2022-04-22;8\n",
            "user4,2021-05-03;9\n",
            "user4,2022-05-11;11\n",
            "7.0\n",
            "user2,2022-03-29;1\n",
            "['user2']\n",
            "['1']\n",
            "user2\n",
            "0\n",
            "user4,2021-01-01;3\n",
            "user3,2022-01-07;4\n",
            "user2,2022-03-29;1\n",
            "1\n",
            "user1,2020-04-04;13\n",
            "user2,2022-01-05;7\n",
            "8\n",
            "user1,2021-06-14;4\n",
            "user3,2022-07-02;10\n",
            "user4,2021-03-21;19\n",
            "user4,2022-03-22;4\n",
            "user4,2022-04-22;8\n",
            "user4,2021-05-03;9\n",
            "user4,2022-05-11;11\n",
            "4.0\n",
            "user1,2020-04-04;13\n",
            "['user1']\n",
            "['13']\n",
            "user1\n",
            "0\n",
            "user4,2021-01-01;3\n",
            "user3,2022-01-07;4\n",
            "user2,2022-03-29;1\n",
            "user1,2020-04-04;13\n",
            "13\n",
            "user2,2022-01-05;7\n",
            "user1,2021-06-14;4\n",
            "17\n",
            "user3,2022-07-02;10\n",
            "user4,2021-03-21;19\n",
            "user4,2022-03-22;4\n",
            "user4,2022-04-22;8\n",
            "user4,2021-05-03;9\n",
            "user4,2022-05-11;11\n",
            "8.5\n",
            "user2,2022-01-05;7\n",
            "['user2']\n",
            "['7']\n",
            "user2\n",
            "0\n",
            "user4,2021-01-01;3\n",
            "user3,2022-01-07;4\n",
            "user2,2022-03-29;1\n",
            "1\n",
            "user1,2020-04-04;13\n",
            "user2,2022-01-05;7\n",
            "8\n",
            "user1,2021-06-14;4\n",
            "user3,2022-07-02;10\n",
            "user4,2021-03-21;19\n",
            "user4,2022-03-22;4\n",
            "user4,2022-04-22;8\n",
            "user4,2021-05-03;9\n",
            "user4,2022-05-11;11\n",
            "4.0\n",
            "user1,2021-06-14;4\n",
            "['user1']\n",
            "['4']\n",
            "user1\n",
            "0\n",
            "user4,2021-01-01;3\n",
            "user3,2022-01-07;4\n",
            "user2,2022-03-29;1\n",
            "user1,2020-04-04;13\n",
            "13\n",
            "user2,2022-01-05;7\n",
            "user1,2021-06-14;4\n",
            "17\n",
            "user3,2022-07-02;10\n",
            "user4,2021-03-21;19\n",
            "user4,2022-03-22;4\n",
            "user4,2022-04-22;8\n",
            "user4,2021-05-03;9\n",
            "user4,2022-05-11;11\n",
            "8.5\n",
            "user3,2022-07-02;10\n",
            "['user3']\n",
            "['10']\n",
            "user3\n",
            "0\n",
            "user4,2021-01-01;3\n",
            "user3,2022-01-07;4\n",
            "4\n",
            "user2,2022-03-29;1\n",
            "user1,2020-04-04;13\n",
            "user2,2022-01-05;7\n",
            "user1,2021-06-14;4\n",
            "user3,2022-07-02;10\n",
            "14\n",
            "user4,2021-03-21;19\n",
            "user4,2022-03-22;4\n",
            "user4,2022-04-22;8\n",
            "user4,2021-05-03;9\n",
            "user4,2022-05-11;11\n",
            "7.0\n",
            "user4,2021-03-21;19\n",
            "['user4']\n",
            "['19']\n",
            "user4\n",
            "0\n",
            "user4,2021-01-01;3\n",
            "3\n",
            "user3,2022-01-07;4\n",
            "user2,2022-03-29;1\n",
            "user1,2020-04-04;13\n",
            "user2,2022-01-05;7\n",
            "user1,2021-06-14;4\n",
            "user3,2022-07-02;10\n",
            "user4,2021-03-21;19\n",
            "22\n",
            "user4,2022-03-22;4\n",
            "26\n",
            "user4,2022-04-22;8\n",
            "34\n",
            "user4,2021-05-03;9\n",
            "43\n",
            "user4,2022-05-11;11\n",
            "54\n",
            "9.0\n",
            "user4,2022-03-22;4\n",
            "['user4']\n",
            "['4']\n",
            "user4\n",
            "0\n",
            "user4,2021-01-01;3\n",
            "3\n",
            "user3,2022-01-07;4\n",
            "user2,2022-03-29;1\n",
            "user1,2020-04-04;13\n",
            "user2,2022-01-05;7\n",
            "user1,2021-06-14;4\n",
            "user3,2022-07-02;10\n",
            "user4,2021-03-21;19\n",
            "22\n",
            "user4,2022-03-22;4\n",
            "26\n",
            "user4,2022-04-22;8\n",
            "34\n",
            "user4,2021-05-03;9\n",
            "43\n",
            "user4,2022-05-11;11\n",
            "54\n",
            "9.0\n",
            "user4,2022-04-22;8\n",
            "['user4']\n",
            "['8']\n",
            "user4\n",
            "0\n",
            "user4,2021-01-01;3\n",
            "3\n",
            "user3,2022-01-07;4\n",
            "user2,2022-03-29;1\n",
            "user1,2020-04-04;13\n",
            "user2,2022-01-05;7\n",
            "user1,2021-06-14;4\n",
            "user3,2022-07-02;10\n",
            "user4,2021-03-21;19\n",
            "22\n",
            "user4,2022-03-22;4\n",
            "26\n",
            "user4,2022-04-22;8\n",
            "34\n",
            "user4,2021-05-03;9\n",
            "43\n",
            "user4,2022-05-11;11\n",
            "54\n",
            "9.0\n",
            "user4,2021-05-03;9\n",
            "['user4']\n",
            "['9']\n",
            "user4\n",
            "0\n",
            "user4,2021-01-01;3\n",
            "3\n",
            "user3,2022-01-07;4\n",
            "user2,2022-03-29;1\n",
            "user1,2020-04-04;13\n",
            "user2,2022-01-05;7\n",
            "user1,2021-06-14;4\n",
            "user3,2022-07-02;10\n",
            "user4,2021-03-21;19\n",
            "22\n",
            "user4,2022-03-22;4\n",
            "26\n",
            "user4,2022-04-22;8\n",
            "34\n",
            "user4,2021-05-03;9\n",
            "43\n",
            "user4,2022-05-11;11\n",
            "54\n",
            "9.0\n",
            "user4,2022-05-11;11\n",
            "['user4']\n",
            "['11']\n",
            "user4\n",
            "0\n",
            "user4,2021-01-01;3\n",
            "3\n",
            "user3,2022-01-07;4\n",
            "user2,2022-03-29;1\n",
            "user1,2020-04-04;13\n",
            "user2,2022-01-05;7\n",
            "user1,2021-06-14;4\n",
            "user3,2022-07-02;10\n",
            "user4,2021-03-21;19\n",
            "22\n",
            "user4,2022-03-22;4\n",
            "26\n",
            "user4,2022-04-22;8\n",
            "34\n",
            "user4,2021-05-03;9\n",
            "43\n",
            "user4,2022-05-11;11\n",
            "54\n",
            "9.0\n",
            "402\n",
            "-36\n",
            "Среднее количество просмотров на уникального пользователя: -11.166666666666666\n",
            "Среднее количество просмотров на уникального пользователя за один раз: -2.5833333333333335\n"
          ]
        }
      ]
    },
    {
      "cell_type": "code",
      "source": [
        "import re\n",
        "\n",
        "stream = [\n",
        "    'user4,2021-01-01;3',\n",
        "    'user3,2022-01-07;4',\n",
        "    'user2,2022-03-29;1',\n",
        "    'user1,2020-04-04;13',\n",
        "    'user2,2022-01-05;7',\n",
        "    'user1,2021-06-14;4',\n",
        "    'user3,2022-07-02;10',\n",
        "    'user4,2021-03-21;19',\n",
        "    'user4,2022-03-22;4',\n",
        "    'user4,2022-04-22;8',\n",
        "    'user4,2021-05-03;9',\n",
        "    'user4,2022-05-11;11'\n",
        "]\n",
        "\n",
        "users_list = []\n",
        "views = 0\n",
        "\n",
        "for el in stream:\n",
        "  splitted_el = re.split('[,;]', el)\n",
        "  if splitted_el[0] not in users_list:\n",
        "    users_list.append(splitted_el[0])\n",
        "  views += int(splitted_el[2])\n",
        "print(f'Среднее количество просмотров на уникального пользователя: {views/len(users_list)}')"
      ],
      "metadata": {
        "colab": {
          "base_uri": "https://localhost:8080/"
        },
        "id": "1ce0nq7JbPlv",
        "outputId": "b88587b2-a9fc-4f35-d2b2-db2eb2cfc551"
      },
      "execution_count": 10,
      "outputs": [
        {
          "output_type": "stream",
          "name": "stdout",
          "text": [
            "Среднее количество просмотров на уникального пользователя: 23.25\n"
          ]
        }
      ]
    },
    {
      "cell_type": "markdown",
      "metadata": {
        "id": "kdts2o3zEwxh"
      },
      "source": [
        "#### ПРИМЕЧАНИЕ\n",
        "Домашнее задание сдается ссылкой [Google Colab](https://colab.research.google.com/).\n",
        "Не сможем проверить или помочь, если вы пришлете:\n",
        "- файлы;\n",
        "- архивы;\n",
        "- скриншоты кода.\n",
        "\n",
        "Все обсуждения и консультации по выполнению домашнего задания ведутся только на соответствующем канале в slack.\n",
        "\n",
        "##### Как правильно задавать вопросы аспирантам, преподавателям и коллегам\n",
        "Прежде чем задать вопрос, попробуйте найти ответ в интернете. Навык самостоятельного поиска информации — один из важнейших. Каждый практикующий специалист любого уровня делает это ежедневно.\n",
        "\n",
        "Сформулируйте вопрос по алгоритму:  \n",
        "1) Что я делаю?  \n",
        "2) Какого результата я ожидаю?  \n",
        "3) Как фактический результат отличается от ожидаемого?  \n",
        "4) Что я уже попробовал сделать, чтобы исправить проблему?  \n",
        "\n",
        "По возможности прикрепите к вопросу скриншоты либо ссылки на код. Не выкладывайте все решение, оставляйте только проблемный и воспроизводимый участок кода.\n"
      ]
    }
  ],
  "metadata": {
    "kernelspec": {
      "display_name": "Python 3",
      "language": "python",
      "name": "python3"
    },
    "language_info": {
      "codemirror_mode": {
        "name": "ipython",
        "version": 3
      },
      "file_extension": ".py",
      "mimetype": "text/x-python",
      "name": "python",
      "nbconvert_exporter": "python",
      "pygments_lexer": "ipython3",
      "version": "3.8.5"
    },
    "colab": {
      "provenance": [],
      "include_colab_link": true
    }
  },
  "nbformat": 4,
  "nbformat_minor": 0
}